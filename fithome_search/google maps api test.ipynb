{
 "cells": [
  {
   "cell_type": "code",
   "execution_count": 1,
   "metadata": {},
   "outputs": [],
   "source": [
    "import requests\n",
    "\n",
    "API_KEY = \"XXXXX\""
   ]
  },
  {
   "cell_type": "code",
   "execution_count": 2,
   "metadata": {},
   "outputs": [],
   "source": [
    "def get_geocode_from_name(name):\n",
    "    address = name.replace(\" \", \"+\")  # 空白をプラスに置き換える\n",
    "    url = f\"https://maps.googleapis.com/maps/api/geocode/json?address={address}&key={API_KEY}\"\n",
    "    response = requests.get(url)\n",
    "    data = response.json()\n",
    "\n",
    "    if data[\"status\"] == \"OK\":\n",
    "        location = data[\"results\"][0][\"geometry\"][\"location\"]\n",
    "        lat = location[\"lat\"]\n",
    "        lng = location[\"lng\"]\n",
    "        return lat, lng\n",
    "    else:\n",
    "        return None, None"
   ]
  },
  {
   "cell_type": "code",
   "execution_count": 3,
   "metadata": {},
   "outputs": [
    {
     "name": "stdout",
     "output_type": "stream",
     "text": [
      "東京タワーの緯度経度: 35.6585805, 139.7454329\n"
     ]
    }
   ],
   "source": [
    "building_name = \"東京タワー\"\n",
    "lat, lng = get_geocode_from_name(building_name)\n",
    "if lat and lng:\n",
    "    print(f\"{building_name}の緯度経度: {lat}, {lng}\")\n",
    "else:\n",
    "    print(\"建物名からジオコーディングできませんでした。\")"
   ]
  },
  {
   "cell_type": "code",
   "execution_count": 4,
   "metadata": {},
   "outputs": [
    {
     "name": "stdout",
     "output_type": "stream",
     "text": [
      "六本木グランドタワーレジデンスの緯度経度: 35.6637675, 139.7377652\n"
     ]
    }
   ],
   "source": [
    "building_name = \"六本木グランドタワーレジデンス\"\n",
    "lat, lng = get_geocode_from_name(building_name)\n",
    "if lat and lng:\n",
    "    print(f\"{building_name}の緯度経度: {lat}, {lng}\")\n",
    "else:\n",
    "    print(\"建物名からジオコーディングできませんでした。\")"
   ]
  },
  {
   "cell_type": "code",
   "execution_count": null,
   "metadata": {},
   "outputs": [],
   "source": []
  }
 ],
 "metadata": {
  "kernelspec": {
   "display_name": "base",
   "language": "python",
   "name": "python3"
  },
  "language_info": {
   "codemirror_mode": {
    "name": "ipython",
    "version": 3
   },
   "file_extension": ".py",
   "mimetype": "text/x-python",
   "name": "python",
   "nbconvert_exporter": "python",
   "pygments_lexer": "ipython3",
   "version": "3.11.5"
  }
 },
 "nbformat": 4,
 "nbformat_minor": 2
}
