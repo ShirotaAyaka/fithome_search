{
 "cells": [
  {
   "cell_type": "markdown",
   "metadata": {},
   "source": [
    "### 単一のページから不動産情報（港区）をスクレイピング"
   ]
  },
  {
   "cell_type": "code",
   "execution_count": 34,
   "metadata": {},
   "outputs": [],
   "source": [
    "import requests\n",
    "import re\n",
    "from bs4 import BeautifulSoup\n",
    "import pandas as pd\n",
    "import numpy as np"
   ]
  },
  {
   "cell_type": "code",
   "execution_count": 35,
   "metadata": {},
   "outputs": [],
   "source": [
    "# DOOR不動産の「東京都港区」を対象にスクレイピング\n",
    "REQUEST_URL = 'https://door.ac/tokyo/city-13103/list'\n",
    "res = requests.get(REQUEST_URL)\n",
    "res.encoding = 'utf-8'"
   ]
  },
  {
   "cell_type": "code",
   "execution_count": 36,
   "metadata": {},
   "outputs": [],
   "source": [
    "# BeautifulSoup(解析したいデータ,解析する方法)を指定し、解析したデータをsoupに代入します。\n",
    "soup = BeautifulSoup(res.text,'html.parser')"
   ]
  },
  {
   "cell_type": "code",
   "execution_count": 37,
   "metadata": {},
   "outputs": [],
   "source": [
    "# スクレイピングしたHTML情報出力\n",
    "f = open(\"test.txt\", \"w\")\n",
    "f.write(str(soup))\n",
    "f.close()"
   ]
  },
  {
   "cell_type": "code",
   "execution_count": 38,
   "metadata": {},
   "outputs": [],
   "source": [
    "# 建物名を一括抽出\n",
    "property_name = [name.get_text() for name in soup.find_all(class_=\"heading\")] if soup.find_all(class_=\"heading\") else None"
   ]
  },
  {
   "cell_type": "code",
   "execution_count": 39,
   "metadata": {},
   "outputs": [
    {
     "data": {
      "text/plain": [
       "['パショリ白金の賃貸物件情報',\n",
       " 'ヨシノハウスの賃貸物件情報',\n",
       " 'PARK AXIS 西麻布 STAGEの賃貸物件情報',\n",
       " 'BRILLIA IST 白金高輪の賃貸物件情報',\n",
       " 'メドーノ白金台の賃貸物件情報',\n",
       " '六本木グランドタワーレジデンスの賃貸物件情報',\n",
       " '六本木ファーストプラザの賃貸物件情報',\n",
       " 'ベイコート芝浦の賃貸物件情報',\n",
       " '芝浦ハイツの賃貸物件情報',\n",
       " 'APOLLO白金台の賃貸物件情報',\n",
       " 'ザ・パークハビオSOHO南青山の賃貸物件情報',\n",
       " 'オーパスレジデンス南青山の賃貸物件情報',\n",
       " 'ザ・パークハビオ麻布十番の賃貸物件情報',\n",
       " 'フォーリア西麻布CASAの賃貸物件情報',\n",
       " 'パークアクシス芝浦キャナルの賃貸物件情報',\n",
       " 'パークナードフィット南青山GARDENの賃貸物件情報',\n",
       " 'ザ・レジデンス六本木の賃貸物件情報',\n",
       " 'レビスタ白金高輪の賃貸物件情報',\n",
       " 'ハーモニーレジデンス西麻布の賃貸物件情報',\n",
       " 'パークハビオ赤坂タワーの賃貸物件情報']"
      ]
     },
     "execution_count": 39,
     "metadata": {},
     "output_type": "execute_result"
    }
   ],
   "source": [
    "property_name"
   ]
  },
  {
   "cell_type": "code",
   "execution_count": 40,
   "metadata": {},
   "outputs": [],
   "source": [
    "# 「の賃貸物件情報」を削除\n",
    "for i in range(len(property_name)):\n",
    "    property_name[i] = property_name[i].replace('の賃貸物件情報', '')"
   ]
  },
  {
   "cell_type": "code",
   "execution_count": 41,
   "metadata": {},
   "outputs": [
    {
     "name": "stdout",
     "output_type": "stream",
     "text": [
      "['パショリ白金', 'ヨシノハウス', 'PARK AXIS 西麻布 STAGE', 'BRILLIA IST 白金高輪', 'メドーノ白金台', '六本木グランドタワーレジデンス', '六本木ファーストプラザ', 'ベイコート芝浦', '芝浦ハイツ', 'APOLLO白金台', 'ザ・パークハビオSOHO南青山', 'オーパスレジデンス南青山', 'ザ・パークハビオ麻布十番', 'フォーリア西麻布CASA', 'パークアクシス芝浦キャナル', 'パークナードフィット南青山GARDEN', 'ザ・レジデンス六本木', 'レビスタ白金高輪', 'ハーモニーレジデンス西麻布', 'パークハビオ赤坂タワー']\n"
     ]
    }
   ],
   "source": [
    "print(property_name)"
   ]
  },
  {
   "cell_type": "code",
   "execution_count": 42,
   "metadata": {},
   "outputs": [],
   "source": [
    "# 賃貸かを抽出\n",
    "property_category = [category.get_text() for category in soup.find_all(class_=\"label\")] if soup.find(class_=\"label\") else None"
   ]
  },
  {
   "cell_type": "code",
   "execution_count": 43,
   "metadata": {},
   "outputs": [
    {
     "data": {
      "text/plain": [
       "['賃貸マンション',\n",
       " '賃貸マンション',\n",
       " '賃貸マンション',\n",
       " '賃貸マンション',\n",
       " '賃貸アパート',\n",
       " '賃貸マンション',\n",
       " '賃貸マンション',\n",
       " '賃貸マンション',\n",
       " '賃貸マンション',\n",
       " '賃貸マンション',\n",
       " '賃貸マンション',\n",
       " '賃貸マンション',\n",
       " '賃貸マンション',\n",
       " '賃貸マンション',\n",
       " '賃貸マンション',\n",
       " '賃貸マンション',\n",
       " '賃貸マンション',\n",
       " '賃貸マンション',\n",
       " '賃貸マンション',\n",
       " '賃貸マンション']"
      ]
     },
     "execution_count": 43,
     "metadata": {},
     "output_type": "execute_result"
    }
   ],
   "source": [
    "property_category"
   ]
  },
  {
   "cell_type": "code",
   "execution_count": 44,
   "metadata": {},
   "outputs": [],
   "source": [
    "# 住所を一括抽出\n",
    "property_address = [address.get_text() for address in soup.find_all(class_=\"description-item\")] if soup.find(class_=\"description-item\") else None"
   ]
  },
  {
   "cell_type": "code",
   "execution_count": 45,
   "metadata": {},
   "outputs": [],
   "source": [
    "# 抽出したデータに築年数も含まれているため、住所のみを再度抽出\n",
    "property_addresses = [s for s in property_address if s.startswith('所在地')]"
   ]
  },
  {
   "cell_type": "code",
   "execution_count": 46,
   "metadata": {},
   "outputs": [],
   "source": [
    "# 先頭文字の「所在地」をreplaceで削除\n",
    "for i in range(len(property_addresses)):\n",
    "    property_addresses[i] = property_addresses[i].replace('所在地', '')"
   ]
  },
  {
   "cell_type": "code",
   "execution_count": 47,
   "metadata": {},
   "outputs": [
    {
     "name": "stdout",
     "output_type": "stream",
     "text": [
      "['東京都港区白金', '東京都港区西麻布', '東京都港区西麻布', '東京都港区白金', '東京都港区白金台2丁目', '東京都港区六本木', '東京都港区六本木', '東京都港区芝浦', '東京都港区芝浦', '東京都港区白金台', '東京都港区南青山', '東京都港区南青山４丁目 1-10', '東京都港区六本木5丁目', '東京都港区西麻布', '東京都港区海岸', '東京都港区南青山', '東京都港区六本木', '東京都港区高輪', '東京都港区西麻布', '東京都港区赤坂']\n"
     ]
    }
   ],
   "source": [
    "print(property_addresses)"
   ]
  },
  {
   "cell_type": "code",
   "execution_count": 48,
   "metadata": {},
   "outputs": [],
   "source": [
    "# 同様に築年数に絞って抽出\n",
    "property_builtyears = [s for s in property_address if s.startswith('築年数')]"
   ]
  },
  {
   "cell_type": "code",
   "execution_count": 49,
   "metadata": {},
   "outputs": [
    {
     "name": "stdout",
     "output_type": "stream",
     "text": [
      "['築年数築40年', '築年数築61年', '築年数築25年', '築年数築20年', '築年数築31年', '築年数築9年', '築年数築31年', '築年数築34年', '築年数築37年', '築年数築28年', '築年数築1年', '築年数築1年', '築年数築3年', '築年数築3年', '築年数築3年', '築年数築5年', '築年数築5年', '築年数築8年', '築年数築8年', '築年数築10年']\n"
     ]
    }
   ],
   "source": [
    "print(property_builtyears)"
   ]
  },
  {
   "cell_type": "code",
   "execution_count": 50,
   "metadata": {},
   "outputs": [],
   "source": [
    "# 最寄り駅を抽出\n",
    "nearest_stations  = [station.get_text() for station in soup.find_all(class_=\"description-item description-item--station\")] if soup.find_all(class_=\"description-item description-item--station\") else None"
   ]
  },
  {
   "cell_type": "code",
   "execution_count": 51,
   "metadata": {},
   "outputs": [
    {
     "data": {
      "text/plain": [
       "['最寄駅東京メトロ南北線 白金高輪駅 徒歩11分東京メトロ日比谷線 広尾駅 徒歩13分東京メトロ南北線 白金台駅 徒歩15分',\n",
       " '最寄駅東京メトロ日比谷線 広尾駅 徒歩12分東京メトロ千代田線 乃木坂駅 徒歩15分東京メトロ日比谷線 六本木駅 徒歩15分',\n",
       " '最寄駅都営大江戸線 六本木駅 徒歩9分東京メトロ千代田線 乃木坂駅 徒歩9分東京メトロ日比谷線 広尾駅 徒歩12分',\n",
       " '最寄駅東京メトロ南北線 白金高輪駅 徒歩3分都営三田線 白金高輪駅 徒歩3分',\n",
       " '最寄駅東京都浅草線 高輪台駅 徒歩3分',\n",
       " '最寄駅東京メトロ南北線 六本木一丁目駅 徒歩3分東京メトロ日比谷線 六本木駅 徒歩8分都営大江戸線 六本木駅 徒歩8分',\n",
       " '最寄駅東京メトロ南北線 六本木一丁目駅 徒歩5分東京メトロ日比谷線 神谷町駅 徒歩7分',\n",
       " '最寄駅ＪＲ山手線 田町駅(東京) 徒歩5分都営浅草線 三田駅(東京) 徒歩7分ＪＲ山手線 品川駅 徒歩24分',\n",
       " '最寄駅ＪＲ山手線 田町駅(東京) 徒歩13分',\n",
       " '最寄駅東京メトロ南北線 白金台駅 徒歩3分ＪＲ山手線 目黒駅 徒歩10分都営浅草線 高輪台駅 徒歩13分',\n",
       " '最寄駅東京メトロ銀座線 表参道駅 徒歩10分東京メトロ日比谷線 広尾駅 徒歩14分ＪＲ山手線 渋谷駅 徒歩18分',\n",
       " '最寄駅東京地下鉄銀座線 外苑前駅 徒歩7分東京地下鉄千代田線 乃木坂駅 徒歩13分',\n",
       " '最寄駅東京地下鉄南北線 麻布十番駅 徒歩4分',\n",
       " '最寄駅東京メトロ日比谷線 広尾駅 徒歩7分都営大江戸線 六本木駅 徒歩18分東京メトロ日比谷線 六本木駅 徒歩18分',\n",
       " '最寄駅新交通ゆりかもめ 芝浦ふ頭駅 徒歩7分ＪＲ山手線 田町駅(東京) 徒歩11分都営浅草線 三田駅(東京) 徒歩13分',\n",
       " '最寄駅東京メトロ銀座線 表参道駅 徒歩12分ＪＲ山手線 渋谷駅 徒歩15分東京メトロ日比谷線 広尾駅 徒歩19分',\n",
       " '最寄駅東京メトロ南北線 六本木一丁目駅 徒歩4分東京メトロ日比谷線 神谷町駅 徒歩7分東京メトロ日比谷線 六本木駅 徒歩12分',\n",
       " '最寄駅都営三田線 白金高輪駅 徒歩7分都営浅草線 泉岳寺駅 徒歩13分東京メトロ南北線 白金台駅 徒歩14分',\n",
       " '最寄駅都営大江戸線 六本木駅 徒歩9分東京メトロ千代田線 乃木坂駅 徒歩9分東京メトロ銀座線 表参道駅 徒歩16分',\n",
       " '最寄駅東京メトロ千代田線 赤坂駅(東京) 徒歩3分東京メトロ南北線 溜池山王駅 徒歩4分東京メトロ丸ノ内線 赤坂見附駅 徒歩7分']"
      ]
     },
     "execution_count": 51,
     "metadata": {},
     "output_type": "execute_result"
    }
   ],
   "source": [
    "nearest_stations"
   ]
  },
  {
   "cell_type": "code",
   "execution_count": 74,
   "metadata": {},
   "outputs": [
    {
     "data": {
      "text/plain": [
       "['8.5',\n",
       " '27.3',\n",
       " '13.4',\n",
       " '13.4',\n",
       " '13.9',\n",
       " '8.8',\n",
       " '79.8',\n",
       " '45.8',\n",
       " '47.5',\n",
       " '57.9',\n",
       " '23.5',\n",
       " '79.9',\n",
       " '44.9',\n",
       " '48.9',\n",
       " '40.8',\n",
       " '19.4',\n",
       " '37.2',\n",
       " '34.5',\n",
       " '39.2',\n",
       " '27.5',\n",
       " '17.9',\n",
       " '27.5',\n",
       " '15.8',\n",
       " '22.9',\n",
       " '26.4',\n",
       " '28.2',\n",
       " '27.5',\n",
       " '27.1',\n",
       " '27.1',\n",
       " '27.4',\n",
       " '27.7',\n",
       " '12.7',\n",
       " '12.8',\n",
       " '12.7',\n",
       " '12.7',\n",
       " '12.6',\n",
       " '12.5',\n",
       " '12.3',\n",
       " '23.1',\n",
       " '22.4',\n",
       " '22.3',\n",
       " '23.9',\n",
       " '22.4',\n",
       " '22.3',\n",
       " '22.2',\n",
       " '27.6',\n",
       " '12.9',\n",
       " '12.3',\n",
       " '12.2',\n",
       " '12.2',\n",
       " '12.5',\n",
       " '14.1',\n",
       " '16.4',\n",
       " '14.8',\n",
       " '14.6',\n",
       " '13.9',\n",
       " '13.5',\n",
       " '13.6',\n",
       " '13.6',\n",
       " '13.7',\n",
       " '15.32万円',\n",
       " '15.10万円',\n",
       " '14.12万円',\n",
       " '13.34万円',\n",
       " '13.63万円',\n",
       " '12.86万円',\n",
       " '12.22万円',\n",
       " '13.69万円',\n",
       " '32.51万円',\n",
       " '28.77万円',\n",
       " '23.09万円',\n",
       " '26.31万円',\n",
       " '27.31万円',\n",
       " '26.29万円',\n",
       " '29.48万円',\n",
       " '20.61万円',\n",
       " '64.56万円',\n",
       " '40.11万円',\n",
       " '53.26万円',\n",
       " '49.44万円',\n",
       " '50.29万円',\n",
       " '41.17万円',\n",
       " '63.59万円',\n",
       " '32.18万円',\n",
       " '144.32万円',\n",
       " '77.73万円',\n",
       " '89.56万円',\n",
       " '69.19万円',\n",
       " '77.55万円',\n",
       " '53.04万円',\n",
       " '89.82万円',\n",
       " '36.97万円']"
      ]
     },
     "execution_count": 74,
     "metadata": {},
     "output_type": "execute_result"
    }
   ],
   "source": [
    "# 家賃を一括抽出\n",
    "property_fee = [fee.get_text() for fee in soup.find_all(class_=\"emphasis-primary\") if not fee.get_text().replace(\",\", \"\").replace(\"万円\", \"\").isdigit()]\n",
    "property_fee"
   ]
  },
  {
   "cell_type": "code",
   "execution_count": 80,
   "metadata": {},
   "outputs": [
    {
     "name": "stdout",
     "output_type": "stream",
     "text": [
      "['3階8.5万円なしなし\\xa0/\\xa08.5万円1K24m2', '2階18万円5,000円18万円\\xa0/\\xa018万円1LDK50.31m2', '7階27.3万円1.2万円27.3万円\\xa0/\\xa027.3万円2LDK55.18m2', '7階13.4万円9,000円13.4万円\\xa0/\\xa013.4万円1K27.33m27階13.4万円9,000円13.4万円\\xa0/\\xa013.4万円ワンルーム26.72m24階13.9万円9,000円13.9万円\\xa0/\\xa013.9万円1K30.41m2', '1階8.8万円3,000円4.4万円\\xa0/\\xa013.2万円1K26.4m2', '26階260万円なし520万円\\xa0/\\xa0なし4LDK231.01m222階112万円なし224万円\\xa0/\\xa0なし2LDK109.49m216階79.8万円なし159.6万円\\xa0/\\xa0なし2LDK79.91m212階45.8万円なし91.6万円\\xa0/\\xa0なし1LDK50.47m210階47万円なし94万円\\xa0/\\xa0なし1LDK50.47m210階47.5万円なし95万円\\xa0/\\xa0なし1LDK50.35m29階57.9万円なし115.8万円\\xa0/\\xa0なし1LDK63.74m28階44万円なし88万円\\xa0/\\xa0なし1LDK50.09m25階25万円なし25万円\\xa0/\\xa025万円ワンルーム25.41m24階23.5万円なし47万円\\xa0/\\xa0なしワンルーム25.43m2', '14階55万円なし110万円\\xa0/\\xa0なし2LDK75.93m2', '23階79.9万円なし159.8万円\\xa0/\\xa0なし4LDK135.76m26階44.9万円なし89.8万円\\xa0/\\xa0なし2LDK85.98m23階48.9万円なし97.8万円\\xa0/\\xa0なし3LDK96.99m2', '13階40.8万円なし81.6万円\\xa0/\\xa0なし3LDK95.65m2', '3階12万円5,000円12万円\\xa0/\\xa012万円ワンルーム27.91m2', '12階45万円3万円45万円\\xa0/\\xa0なし1LDK52.05m23階19.4万円2万円19.4万円\\xa0/\\xa0なし1DK30.17m22階21万円2万円21万円\\xa0/\\xa0なし1LDK30.17m2', '11階53万円2万円53万円\\xa0/\\xa0なし2LDK62.81m211階35万円1万円35万円\\xa0/\\xa0なし1LDK46.53m211階37万円1万円37万円\\xa0/\\xa0なし1LDK45.2m211階34万円1万円34万円\\xa0/\\xa0なし1LDK44.08m210階51万円2万円51万円\\xa0/\\xa0なし2LDK62.81m210階33万円1万円33万円\\xa0/\\xa0なし1LDK46.53m210階35万円1万円35万円\\xa0/\\xa0なし1LDK45.2m210階32万円1万円32万円\\xa0/\\xa0なし1LDK44.08m29階51万円2万円51万円\\xa0/\\xa0なし2LDK62.81m29階32万円1万円32万円\\xa0/\\xa0なし1LDK46.53m29階34万円1万円34万円\\xa0/\\xa0なし1LDK45.2m29階32万円1万円32万円\\xa0/\\xa0なし1LDK44.08m28階50万円2万円50万円\\xa0/\\xa0なし2LDK62.81m28階32万円1万円32万円\\xa0/\\xa0なし1LDK46.53m28階34万円1万円34万円\\xa0/\\xa0なし1LDK45.2m28階31万円1万円31万円\\xa0/\\xa0なし1LDK44.08m27階50万円2万円50万円\\xa0/\\xa0なし2LDK62.81m27階31万円1万円31万円\\xa0/\\xa0なし1LDK46.53m27階33万円1万円33万円\\xa0/\\xa0なし1LDK45.2m27階31万円1万円31万円\\xa0/\\xa0なし1LDK44.08m2', '14階48万円2.5万円48万円\\xa0/\\xa0なし2LDK66.23m214階37.2万円2.5万円37.2万円\\xa0/\\xa0なし2LDK52.45m213階18万円1.5万円18万円\\xa0/\\xa0なし1K25m210階34.5万円2.5万円34.5万円\\xa0/\\xa0なし2LDK52.45m27階54万円2.5万円54万円\\xa0/\\xa0なし2LDK69.49m27階39.2万円2.5万円39.2万円\\xa0/\\xa0なし2LDK66.23m26階27.5万円2.5万円27.5万円\\xa0/\\xa0なし1LDK47m24階17.9万円1.5万円17.9万円\\xa0/\\xa0なしワンルーム30.87m23階27.5万円2.5万円27.5万円\\xa0/\\xa0なし1LDK47m23階15.8万円1.5万円15.8万円\\xa0/\\xa015.8万円1K25.14m22階22.9万円2.5万円22.9万円\\xa0/\\xa0なし1LDK41.25m21階15万円1.5万円15万円\\xa0/\\xa0なし1K26.27m2', '2階26.4万円1.5万円26.4万円\\xa0/\\xa026.4万円1LDK40.43m21階26万円1.5万円26万円\\xa0/\\xa0なし1LDK40.43m2', '10階28.2万円2万円28.2万円\\xa0/\\xa0なし2LDK56.01m29階27.5万円2万円27.5万円\\xa0/\\xa0なし2LDK54.87m28階27.1万円2万円27.1万円\\xa0/\\xa0なし2LDK55.83m28階27.1万円2万円27.1万円\\xa0/\\xa0なし2LDK55.74m28階27.4万円2万円27.4万円\\xa0/\\xa0なし2LDK54.87m28階27.7万円2万円27.7万円\\xa0/\\xa0なし2LDK54.87m26階13万円1万円13万円\\xa0/\\xa0なし1DK25.55m24階12.7万円1万円12.7万円\\xa0/\\xa0なし1DK25.55m24階12.8万円1万円12.8万円\\xa0/\\xa0なし1DK25.55m24階12.7万円1万円12.7万円\\xa0/\\xa0なし1DK25.55m23階12.7万円1万円12.7万円\\xa0/\\xa0なし1DK25.55m22階12.6万円1万円12.6万円\\xa0/\\xa0なし1DK25.55m22階12.5万円1万円12.5万円\\xa0/\\xa0なし1DK25.55m21階12.3万円1万円12.3万円\\xa0/\\xa0なし1DK25.55m2', '11階23.1万円1.5万円23.1万円\\xa0/\\xa0なし1LDK44.55m210階22.4万円1.5万円22.4万円\\xa0/\\xa0なし1LDK44.55m29階14万円1.5万円14万円\\xa0/\\xa0なしワンルーム25.39m28階22万円1.5万円22万円\\xa0/\\xa0なし1LDK42.54m27階22.3万円1.5万円22.3万円\\xa0/\\xa0なし1LDK42.24m26階23.9万円1.5万円23.9万円\\xa0/\\xa0なし1LDK48.51m26階22.4万円1.5万円22.4万円\\xa0/\\xa0なし1LDK44.55m26階22.3万円1.5万円22.3万円\\xa0/\\xa0なし1LDK42.54m25階22.2万円1.5万円22.2万円\\xa0/\\xa0なし1LDK44.55m24階27.6万円1.5万円27.6万円\\xa0/\\xa0なし2LDK53.73m2', '14階138万円なし276万円\\xa0/\\xa0なし3LDK140.15m212階110万円なし220万円\\xa0/\\xa0110万円3LDK101.9m2', '15階12.9万円1万円12.9万円\\xa0/\\xa012.9万円1K25.18m211階12.3万円1万円12.3万円\\xa0/\\xa06.15万円1K25.18m210階12.2万円1万円12.2万円\\xa0/\\xa06.1万円1K25.18m210階12.2万円1万円12.2万円\\xa0/\\xa06.1万円1K25.18m2', '5階12.5万円1.6万円なし\\xa0/\\xa0なし1K25.76m2', '15階14.1万円1万円14.1万円\\xa0/\\xa014.1万円1K21.96m213階16.4万円1万円16.4万円\\xa0/\\xa016.4万円1K29.29m213階14.8万円1万円14.8万円\\xa0/\\xa014.8万円ワンルーム24.8m211階14.6万円1万円14.6万円\\xa0/\\xa014.6万円ワンルーム24.8m210階13.9万円1万円13.9万円\\xa0/\\xa013.9万円1K22.74m29階16万円1万円16万円\\xa0/\\xa016万円1K29.29m29階13.5万円1万円13.5万円\\xa0/\\xa013.5万円1K21.96m25階16万円1万円16万円\\xa0/\\xa016万円1K29.84m25階13.6万円1万円13.6万円\\xa0/\\xa013.6万円1K22.74m23階13.6万円1万円13.6万円\\xa0/\\xa0なし1K22.74m22階13.7万円1万円13.7万円\\xa0/\\xa013.7万円ワンルーム25.44m2']\n"
     ]
    }
   ],
   "source": [
    "property_detail = [fee.get_text() for fee in soup.find_all(class_=\"table-secondary table--clickable js-table-clickable\")] if soup.find_all(class_=\"table-secondary table--clickable js-table-clickable\") else None\n",
    "\n",
    "cleaned_details = []\n",
    "for detail in property_detail:\n",
    "    cleaned_detail = re.sub(r'階家賃管理費敷金 / 礼金間取り専有面積キープ詳細|詳細を見る', '', detail)\n",
    "    cleaned_details.append(cleaned_detail)\n",
    "\n",
    "print(cleaned_details)"
   ]
  },
  {
   "cell_type": "code",
   "execution_count": 52,
   "metadata": {},
   "outputs": [],
   "source": [
    "# 物件画像・URLの抽出\n",
    "property_image_element = soup.find(class_=\"building-box__summary-image\")\n",
    "property_image_url = property_image_element.img[\"src\"] if property_image_element and property_image_element.img else None"
   ]
  },
  {
   "cell_type": "code",
   "execution_count": 53,
   "metadata": {},
   "outputs": [
    {
     "data": {
      "text/plain": [
       "'//img.door.ac/door-chintai/realestate/suumo/503/100378167503/100378167503_go.jpg/160x118-f1-q70-wp1'"
      ]
     },
     "execution_count": 53,
     "metadata": {},
     "output_type": "execute_result"
    }
   ],
   "source": [
    "property_image_url"
   ]
  },
  {
   "cell_type": "code",
   "execution_count": null,
   "metadata": {},
   "outputs": [],
   "source": []
  }
 ],
 "metadata": {
  "kernelspec": {
   "display_name": "base",
   "language": "python",
   "name": "python3"
  },
  "language_info": {
   "codemirror_mode": {
    "name": "ipython",
    "version": 3
   },
   "file_extension": ".py",
   "mimetype": "text/x-python",
   "name": "python",
   "nbconvert_exporter": "python",
   "pygments_lexer": "ipython3",
   "version": "3.11.5"
  }
 },
 "nbformat": 4,
 "nbformat_minor": 2
}
